{
 "cells": [
  {
   "cell_type": "code",
   "execution_count": null,
   "metadata": {},
   "outputs": [],
   "source": [
    "import torch\n",
    "import torchvision.models as models\n",
    "from torch.quantization import quantize_dynamic"
   ]
  },
  {
   "cell_type": "code",
   "execution_count": null,
   "metadata": {},
   "outputs": [],
   "source": [
    "# Load and prepare original model\n",
    "model_fp32 = models.resnet18(pretrained=True)\n",
    "model_fp32.eval()\n",
    "print(\"Loaded FP32 ResNet18 model\")"
   ]
  },
  {
   "cell_type": "code",
   "execution_count": null,
   "metadata": {},
   "outputs": [],
   "source": [
    "# Apply dynamic quantization\n",
    "model_int8 = quantize_dynamic(\n",
    "    model_fp32,\n",
    "    {torch.nn.Linear},\n",
    "    dtype=torch.qint8\n",
    ")\n",
    "print(\"Applied INT8 quantization to linear layers\")"
   ]
  },
  {
   "cell_type": "code",
   "execution_count": null,
   "metadata": {},
   "outputs": [],
   "source": [
    "# Save models\n",
    "torch.save(model_fp32.state_dict(), \"resnet18_fp32.pth\")\n",
    "torch.save(model_int8.state_dict(), \"resnet18_quantized.pth\")\n",
    "print(\"Saved both model versions\")"
   ]
  },
  {
   "cell_type": "code",
   "execution_count": null,
   "metadata": {},
   "outputs": [],
   "source": [
    "# Compare sizes\n",
    "import os\n",
    "\n",
    "size_fp32 = os.path.getsize(\"resnet18_fp32.pth\") / 1024 / 1024\n",
    "size_int8 = os.path.getsize(\"resnet18_quantized.pth\") / 1024 / 1024\n",
    "\n",
    "print(f\"FP32 model size: {size_fp32:.2f} MB\")\n",
    "print(f\"INT8 quantized model size: {size_int8:.2f} MB\")"
   ]
  }
 ],
 "metadata": {
  "kernelspec": {
   "display_name": "Python 3",
   "language": "python",
   "name": "python3"
  },
  "language_info": {
   "name": "python",
   "version": "3.8"
  }
 },
 "nbformat": 4,
 "nbformat_minor": 4
}
