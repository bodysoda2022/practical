{
 "cells": [
  {
   "cell_type": "markdown",
   "metadata": {},
   "source": [
    "# Video Processing: Serial, Parallel, and Pipeline Approaches"
   ]
  },
  {
   "cell_type": "code",
   "execution_count": null,
   "metadata": {},
   "outputs": [],
   "source": [
    "# Serial Processing\n",
    "import cv2\n",
    "\n",
    "def process_frame_serial(frame):\n",
    "    return cv2.cvtColor(frame, cv2.COLOR_BGR2GRAY)\n",
    "\n",
    "def process_video_serial(video_path, output_path):\n",
    "    cap = cv2.VideoCapture(video_path)\n",
    "    fourcc = cv2.VideoWriter_fourcc(*'MJPG')\n",
    "    out = None\n",
    "    while True:\n",
    "        ret, frame = cap.read()\n",
    "        if not ret:\n",
    "            break\n",
    "        processed_frame = process_frame_serial(frame)\n",
    "        if out is None:\n",
    "            height, width = processed_frame.shape\n",
    "            out = cv2.VideoWriter(output_path, fourcc, cap.get(cv2.CAP_PROP_FPS), (width, height), isColor=False)\n",
    "        out.write(processed_frame)\n",
    "    cap.release()\n",
    "    if out is not None:\n",
    "        out.release()\n",
    "    cv2.destroyAllWindows()\n",
    "\n",
    "# Example usage:\n",
    "# process_video_serial(\"SampleVideo.mp4\", \"SerialProcessing.avi\")"
   ]
  },
  {
   "cell_type": "markdown",
   "metadata": {},
   "source": [
    "## Parallel Processing"
   ]
  },
  {
   "cell_type": "code",
   "execution_count": null,
   "metadata": {},
   "outputs": [],
   "source": [
    "from concurrent.futures import ThreadPoolExecutor\n",
    "import cv2\n",
    "\n",
    "def process_frame(frame):\n",
    "    return cv2.cvtColor(frame, cv2.COLOR_BGR2GRAY)\n",
    "\n",
    "def parallel_processing(video_path, output_path):\n",
    "    cap = cv2.VideoCapture(video_path)\n",
    "    frames = []\n",
    "    while cap.isOpened():\n",
    "        ret, frame = cap.read()\n",
    "        if not ret:\n",
    "            break\n",
    "        frames.append(frame)\n",
    "    cap.release()\n",
    "    with ThreadPoolExecutor() as executor:\n",
    "        processed_frames = list(executor.map(process_frame, frames))\n",
    "    fourcc = cv2.VideoWriter_fourcc(*'XVID')\n",
    "    out = cv2.VideoWriter(output_path, fourcc, 20.0,\n",
    "                          (processed_frames[0].shape[1], processed_frames[0].shape[0]),\n",
    "                          False)\n",
    "    for frame in processed_frames:\n",
    "        out.write(frame)\n",
    "    out.release()\n",
    "\n",
    "# Example usage:\n",
    "# parallel_processing(\"SampleVideo.mp4\", \"ParallelProcessing.avi\")"
   ]
  },
  {
   "cell_type": "markdown",
   "metadata": {},
   "source": [
    "## Pipeline Processing"
   ]
  },
  {
   "cell_type": "code",
   "execution_count": null,
   "metadata": {},
   "outputs": [],
   "source": [
    "import threading\n",
    "import queue\n",
    "import cv2\n",
    "\n",
    "def capture_frames(video_path, frame_queue):\n",
    "    cap = cv2.VideoCapture(video_path)\n",
    "    while True:\n",
    "        ret, frame = cap.read()\n",
    "        if not ret:\n",
    "            frame_queue.put(None)\n",
    "            break\n",
    "        frame_queue.put(frame)\n",
    "    cap.release()\n",
    "\n",
    "def process_frames(frame_queue, processed_queue):\n",
    "    while True:\n",
    "        frame = frame_queue.get()\n",
    "        if frame is None:\n",
    "            processed_queue.put(None)\n",
    "            break\n",
    "        processed_frame = cv2.cvtColor(frame, cv2.COLOR_BGR2GRAY)\n",
    "        processed_queue.put(processed_frame)\n",
    "\n",
    "def save_processed_frames(processed_queue, output_path):\n",
    "    fourcc = cv2.VideoWriter_fourcc(*'XVID')\n",
    "    out = None\n",
    "    while True:\n",
    "        processed_frame = processed_queue.get()\n",
    "        if processed_frame is None:\n",
    "            break\n",
    "        if out is None:\n",
    "            height, width = processed_frame.shape\n",
    "            out = cv2.VideoWriter(output_path, fourcc, 20.0, (width, height), isColor=False)\n",
    "        out.write(processed_frame)\n",
    "    if out is not None:\n",
    "        out.release()\n",
    "    cv2.destroyAllWindows()\n",
    "\n",
    "def process_video_pipeline(video_path, output_path):\n",
    "    frame_queue = queue.Queue()\n",
    "    processed_queue = queue.Queue()\n",
    "    t1 = threading.Thread(target=capture_frames, args=(video_path, frame_queue))\n",
    "    t2 = threading.Thread(target=process_frames, args=(frame_queue, processed_queue))\n",
    "    t3 = threading.Thread(target=save_processed_frames, args=(processed_queue, output_path))\n",
    "    t1.start()\n",
    "    t2.start()\n",
    "    t3.start()\n",
    "    t1.join()\n",
    "    t2.join()\n",
    "    t3.join()\n",
    "\n",
    "# Example usage:\n",
    "# process_video_pipeline(\"SampleVideo.mp4\", \"PipelineProcessing.avi\")"
   ]
  }
 ],
 "metadata": {
  "kernelspec": {
   "display_name": "Python 3",
   "language": "python",
   "name": "python3"
  },
  "language_info": {
   "name": "python",
   "version": ""
  }
 },
 "nbformat": 4,
 "nbformat_minor": 2
}
