{
 "cells": [
  {
   "cell_type": "code",
   "execution_count": null,
   "metadata": {},
   "outputs": [],
   "source": [
    "!pip install nltk transformers torch scikit-learn flask"
   ]
  },
  {
   "cell_type": "code",
   "execution_count": null,
   "metadata": {},
   "outputs": [],
   "source": [
    "from transformers import pipeline\n",
    "from sklearn.feature_extraction.text import TfidfVectorizer\n",
    "from sklearn.metrics.pairwise import cosine_similarity"
   ]
  },
  {
   "cell_type": "code",
   "execution_count": null,
   "metadata": {},
   "outputs": [],
   "source": [
    "class IntentDetectionAgent:\n",
    "    def __init__(self):\n",
    "        self.classifier = pipeline(\"text-classification\", \n",
    "                                 model=\"bhadresh-savani/distilbert-base-uncased-emotion\")\n",
    "    def handle(self, message):\n",
    "        return self.classifier(message)[0]['label']"
   ]
  },
  {
   "cell_type": "code",
   "execution_count": null,
   "metadata": {},
   "outputs": [],
   "source": [
    "class FAQAgent:\n",
    "    def __init__(self):\n",
    "        self.faqs = {\n",
    "            \"What is your return policy?\": \"You can return products within 30 days.\",\n",
    "            \"How to reset my password?\": \"Click 'Forgot Password' on the login screen.\",\n",
    "        }\n",
    "        self.vectorizer = TfidfVectorizer()\n",
    "        self.questions = list(self.faqs.keys())\n",
    "        self.faq_vectors = self.vectorizer.fit_transform(self.questions)\n",
    "    \n",
    "    def handle(self, message):\n",
    "        user_vec = self.vectorizer.transform([message])\n",
    "        sims = cosine_similarity(user_vec, self.faq_vectors)\n",
    "        return self.faqs[self.questions[sims.argmax()]]"
   ]
  },
  {
   "cell_type": "code",
   "execution_count": null,
   "metadata": {},
   "outputs": [],
   "source": [
    "class SentimentAgent:\n",
    "    def __init__(self):\n",
    "        self.sentiment = pipeline(\"sentiment-analysis\")\n",
    "    def handle(self, message):\n",
    "        return self.sentiment(message)[0]['label']"
   ]
  },
  {
   "cell_type": "code",
   "execution_count": null,
   "metadata": {},
   "outputs": [],
   "source": [
    "class EscalationAgent:\n",
    "    def handle(self, _, sentiment):\n",
    "        return \"Escalating to human agent!\" if sentiment == \"NEGATIVE\" else \"No escalation needed.\""
   ]
  },
  {
   "cell_type": "code",
   "execution_count": null,
   "metadata": {},
   "outputs": [],
   "source": [
    "class CustomerSupportSystem:\n",
    "    def __init__(self):\n",
    "        self.agents = {\n",
    "            'intent': IntentDetectionAgent(),\n",
    "            'faq': FAQAgent(),\n",
    "            'sentiment': SentimentAgent(),\n",
    "            'escalation': EscalationAgent()\n",
    "        }\n",
    "    \n",
    "    def respond(self, message):\n",
    "        intent = self.agents['intent'].handle(message)\n",
    "        sentiment = self.agents['sentiment'].handle(message)\n",
    "        response = self.agents['faq'].handle(message) if \"question\" in message.lower() else \"Please clarify.\"\n",
    "        return {\n",
    "            \"response\": response,\n",
    "            \"sentiment\": sentiment,\n",
    "            \"escalation\": self.agents['escalation'].handle(message, sentiment)\n",
    "        }"
   ]
  },
  {
   "cell_type": "code",
   "execution_count": null,
   "metadata": {},
   "outputs": [],
   "source": [
    "# Try the system\n",
    "bot = CustomerSupportSystem()\n",
    "while True:\n",
    "    msg = input(\"You: \")\n",
    "    if msg.lower() in [\"exit\", \"quit\"]: break\n",
    "    output = bot.respond(msg)\n",
    "    print(f\"\\nResponse: {output['response']}\\nSentiment: {output['sentiment']}\\nAction: {output['escalation']}\\n\")"
   ]
  }
 ],
 "metadata": {
  "kernelspec": {
   "display_name": "Python 3",
   "language": "python",
   "name": "python3"
  },
  "language_info": {
   "name": "python",
   "version": "3.8"
  }
 },
 "nbformat": 4,
 "nbformat_minor": 4
}
