{
 "cells": [
  {
   "cell_type": "markdown",
   "metadata": {},
   "source": [
    "# Human Activity Recognition (HAR) using CNN\n",
    "\n",
    "This notebook demonstrates how to train a convolutional neural network on the UCI HAR dataset and use it for activity prediction from images."
   ]
  },
  {
   "cell_type": "code",
   "execution_count": null,
   "metadata": {},
   "outputs": [],
   "source": [
    "import numpy as np\n",
    "import pandas as pd\n",
    "from sklearn.preprocessing import StandardScaler\n",
    "from tensorflow.keras.utils import to_categorical\n",
    "from tensorflow.keras.models import Sequential\n",
    "from tensorflow.keras.layers import Conv2D, MaxPooling2D, Flatten, Dense\n",
    "from tensorflow.keras.optimizers import Adam\n",
    "import tensorflow as tf\n",
    "from PIL import Image\n",
    "import warnings\n",
    "warnings.filterwarnings('ignore')"
   ]
  },
  {
   "cell_type": "markdown",
   "metadata": {},
   "source": [
    "## Load and Preprocess the UCI HAR Dataset"
   ]
  },
  {
   "cell_type": "code",
   "execution_count": null,
   "metadata": {},
   "outputs": [],
   "source": [
    "def load_data():\n",
    "    X_train_path = 'UCI HAR Dataset/train/X_train.txt'\n",
    "    y_train_path = 'UCI HAR Dataset/train/y_train.txt'\n",
    "    X_test_path = 'UCI HAR Dataset/test/X_test.txt'\n",
    "    y_test_path = 'UCI HAR Dataset/test/y_test.txt'\n",
    "\n",
    "    X_train = pd.read_csv(X_train_path, delim_whitespace=True, header=None)\n",
    "    y_train = pd.read_csv(y_train_path, delim_whitespace=True, header=None)\n",
    "    X_test = pd.read_csv(X_test_path, delim_whitespace=True, header=None)\n",
    "    y_test = pd.read_csv(y_test_path, delim_whitespace=True, header=None)\n",
    "\n",
    "    scaler = StandardScaler()\n",
    "    X_train = scaler.fit_transform(X_train)\n",
    "    X_test = scaler.transform(X_test)\n",
    "\n",
    "    X_train = np.array(X_train)\n",
    "    y_train = np.array(y_train)\n",
    "    X_test = np.array(X_test)\n",
    "    y_test = np.array(y_test)\n",
    "\n",
    "    return X_train, y_train, X_test, y_test, scaler\n",
    "\n",
    "X_train, y_train, X_test, y_test, scaler = load_data()"
   ]
  },
  {
   "cell_type": "markdown",
   "metadata": {},
   "source": [
    "## Prepare Labels for Training"
   ]
  },
  {
   "cell_type": "code",
   "execution_count": null,
   "metadata": {},
   "outputs": [],
   "source": [
    "num_classes = 6\n",
    "y_train = to_categorical(y_train - 1, num_classes=num_classes)\n",
    "y_test = to_categorical(y_test - 1, num_classes=num_classes)"
   ]
  },
  {
   "cell_type": "markdown",
   "metadata": {},
   "source": [
    "## Reshape Data for CNN Input"
   ]
  },
  {
   "cell_type": "code",
   "execution_count": null,
   "metadata": {},
   "outputs": [],
   "source": [
    "def reshape_data(X):\n",
    "    return X.reshape((X.shape[0], 1, X.shape[1], 1))\n",
    "\n",
    "X_train_reshaped = reshape_data(X_train)\n",
    "X_test_reshaped = reshape_data(X_test)"
   ]
  },
  {
   "cell_type": "markdown",
   "metadata": {},
   "source": [
    "## Build the CNN Model"
   ]
  },
  {
   "cell_type": "code",
   "execution_count": null,
   "metadata": {},
   "outputs": [],
   "source": [
    "model = Sequential([\n",
    "    Conv2D(32, (1, 5), activation='relu', input_shape=(1, X_train.shape[1], 1)),\n",
    "    MaxPooling2D(pool_size=(1, 2)),\n",
    "    Conv2D(64, (1, 5), activation='relu'),\n",
    "    MaxPooling2D(pool_size=(1, 2)),\n",
    "    Flatten(),\n",
    "    Dense(128, activation='relu'),\n",
    "    Dense(num_classes, activation='softmax')\n",
    "])"
   ]
  },
  {
   "cell_type": "markdown",
   "metadata": {},
   "source": [
    "## Compile and Train the Model"
   ]
  },
  {
   "cell_type": "code",
   "execution_count": null,
   "metadata": {},
   "outputs": [],
   "source": [
    "model.compile(optimizer=Adam(), loss='categorical_crossentropy', metrics=['accuracy'])\n",
    "model.fit(X_train_reshaped, y_train, epochs=50, batch_size=64, validation_split=0.2)"
   ]
  },
  {
   "cell_type": "markdown",
   "metadata": {},
   "source": [
    "## Save the Trained Model"
   ]
  },
  {
   "cell_type": "code",
   "execution_count": null,
   "metadata": {},
   "outputs": [],
   "source": [
    "model.save('har_model.h5')"
   ]
  },
  {
   "cell_type": "markdown",
   "metadata": {},
   "source": [
    "## Activity Labels"
   ]
  },
  {
   "cell_type": "code",
   "execution_count": null,
   "metadata": {},
   "outputs": [],
   "source": [
    "activity_labels = ['WALKING', 'WALKING_UPSTAIRS', 'WALKING_DOWNSTAIRS', 'SITTING', 'STANDING', 'LAYING']"
   ]
  },
  {
   "cell_type": "markdown",
   "metadata": {},
   "source": [
    "## Image Preprocessing for Prediction"
   ]
  },
  {
   "cell_type": "code",
   "execution_count": null,
   "metadata": {},
   "outputs": [],
   "source": [
    "def preprocess_image(image_path, input_shape, scaler):\n",
    "    img = Image.open(image_path).convert('L')\n",
    "    img = img.resize((input_shape[1], input_shape[0]))\n",
    "    img_array = np.array(img).astype('float32')\n",
    "    img_array /= 255.0\n",
    "    img_array = img_array.flatten().reshape(1, -1)\n",
    "    img_array = img_array.reshape(1, input_shape[0], input_shape[1], 1)\n",
    "    return img_array"
   ]
  },
  {
   "cell_type": "markdown",
   "metadata": {},
   "source": [
    "## Load Model and Predict Activity from Image"
   ]
  },
  {
   "cell_type": "code",
   "execution_count": null,
   "metadata": {},
   "outputs": [],
   "source": [
    "model = tf.keras.models.load_model('har_model.h5')\n",
    "\n",
    "def predict_activity(image_path, model, input_shape, scaler):\n",
    "    img_array = preprocess_image(image_path, input_shape, scaler)\n",
    "    print(f'Processed image shape: {img_array.shape}')\n",
    "    prediction = model.predict(img_array)\n",
    "    print(f'Prediction array: {prediction}')\n",
    "    activity_index = np.argmax(prediction, axis=1)[0]\n",
    "    activity = activity_labels[activity_index]\n",
    "    return activity"
   ]
  },
  {
   "cell_type": "markdown",
   "metadata": {},
   "source": [
    "## Example Prediction"
   ]
  },
  {
   "cell_type": "code",
   "execution_count": null,
   "metadata": {},
   "outputs": [],
   "source": [
    "image_path = '1.jpeg'\n",
    "input_shape = (1, X_train.shape[1], 1)\n",
    "activity = predict_activity(image_path, model, input_shape, scaler)\n",
    "print(f'Predicted activity: {activity}')"
   ]
  }
 ],
 "metadata": {
  "kernelspec": {
   "display_name": "Python 3",
   "language": "python",
   "name": "python3"
  },
  "language_info": {
   "name": "python"
  }
 },
 "nbformat": 4,
 "nbformat_minor": 2
}
