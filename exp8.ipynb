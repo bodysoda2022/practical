{
 "cells": [
  {
   "cell_type": "markdown",
   "metadata": {},
   "source": [
    "# Image Colorization with U-Net Generator (TensorFlow/Keras)\n",
    "\n",
    "This notebook demonstrates black-and-white to color image translation using a U-Net-based generator."
   ]
  },
  {
   "cell_type": "code",
   "execution_count": null,
   "metadata": {},
   "outputs": [],
   "source": [
    "import os\n",
    "from PIL import Image\n",
    "import numpy as np\n",
    "import tensorflow as tf\n",
    "import matplotlib.pyplot as plt\n",
    "import seaborn as sns\n",
    "from sklearn.metrics import confusion_matrix"
   ]
  },
  {
   "cell_type": "markdown",
   "metadata": {},
   "source": [
    "## Preprocessing Functions"
   ]
  },
  {
   "cell_type": "code",
   "execution_count": null,
   "metadata": {},
   "outputs": [],
   "source": [
    "def preprocess_bw_image(image_path, size=(256, 256)):\n",
    "    image = Image.open(image_path).convert('L')\n",
    "    image = image.resize(size)\n",
    "    image = np.array(image) / 127.5 - 1\n",
    "    image = np.expand_dims(image, axis=-1)\n",
    "    return image\n",
    "\n",
    "def preprocess_color_image(image_path, size=(256, 256)):\n",
    "    image = Image.open(image_path)\n",
    "    image = image.resize(size)\n",
    "    image = np.array(image) / 127.5 - 1\n",
    "    return image"
   ]
  },
  {
   "cell_type": "markdown",
   "metadata": {},
   "source": [
    "## Load Image Pairs"
   ]
  },
  {
   "cell_type": "code",
   "execution_count": null,
   "metadata": {},
   "outputs": [],
   "source": [
    "def load_image_pairs(bw_dir, color_dir, size=(256, 256)):\n",
    "    bw_images = []\n",
    "    color_images = []\n",
    "    for filename in os.listdir(bw_dir):\n",
    "        bw_path = os.path.join(bw_dir, filename)\n",
    "        color_path = os.path.join(color_dir, filename)\n",
    "        if os.path.exists(color_path):\n",
    "            bw_images.append(preprocess_bw_image(bw_path, size))\n",
    "            color_images.append(preprocess_color_image(color_path, size))\n",
    "    return np.array(bw_images), np.array(color_images)"
   ]
  },
  {
   "cell_type": "markdown",
   "metadata": {},
   "source": [
    "## Load Training and Test Data"
   ]
  },
  {
   "cell_type": "code",
   "execution_count": null,
   "metadata": {},
   "outputs": [],
   "source": [
    "train_bw_dir = 'dataset/train/bw'\n",
    "train_color_dir = 'dataset/train/color'\n",
    "test_bw_dir = 'dataset/test/bw'\n",
    "test_color_dir = 'dataset/test/color'\n",
    "\n",
    "train_bw_images, train_color_images = load_image_pairs(train_bw_dir, train_color_dir)\n",
    "test_bw_images, test_color_images = load_image_pairs(test_bw_dir, test_color_dir)\n",
    "\n",
    "print(f'Train BW Images: {train_bw_images.shape}')\n",
    "print(f'Train Color Images: {train_color_images.shape}')\n",
    "print(f'Test BW Images: {test_bw_images.shape}')\n",
    "print(f'Test Color Images: {test_color_images.shape}')"
   ]
  },
  {
   "cell_type": "markdown",
   "metadata": {},
   "source": [
    "## U-Net Generator Model"
   ]
  },
  {
   "cell_type": "code",
   "execution_count": null,
   "metadata": {},
   "outputs": [],
   "source": [
    "def downsample(filters, size, apply_batchnorm=True):\n",
    "    initializer = tf.random_normal_initializer(0., 0.02)\n",
    "    result = tf.keras.Sequential()\n",
    "    result.add(tf.keras.layers.Conv2D(filters, size, strides=2, padding='same',\n",
    "                                      kernel_initializer=initializer, use_bias=False))\n",
    "    if apply_batchnorm:\n",
    "        result.add(tf.keras.layers.BatchNormalization())\n",
    "    result.add(tf.keras.layers.LeakyReLU())\n",
    "    return result\n",
    "\n",
    "def upsample(filters, size, apply_dropout=False):\n",
    "    initializer = tf.random_normal_initializer(0., 0.02)\n",
    "    result = tf.keras.Sequential()\n",
    "    result.add(tf.keras.layers.Conv2DTranspose(filters, size, strides=2, padding='same',\n",
    "                                               kernel_initializer=initializer, use_bias=False))\n",
    "    result.add(tf.keras.layers.BatchNormalization())\n",
    "    if apply_dropout:\n",
    "        result.add(tf.keras.layers.Dropout(0.5))\n",
    "    result.add(tf.keras.layers.ReLU())\n",
    "    return result"
   ]
  },
  {
   "cell_type": "markdown",
   "metadata": {},
   "source": [
    "## Build Generator"
   ]
  },
  {
   "cell_type": "code",
   "execution_count": null,
   "metadata": {},
   "outputs": [],
   "source": [
    "def Generator():\n",
    "    inputs = tf.keras.layers.Input(shape=[256, 256, 1])\n",
    "    down_stack = [\n",
    "        downsample(64, 4, apply_batchnorm=False),\n",
    "        downsample(128, 4),\n",
    "        downsample(256, 4),\n",
    "        downsample(512, 4),\n",
    "        downsample(512, 4),\n",
    "        downsample(512, 4),\n",
    "        downsample(512, 4),\n",
    "        downsample(512, 4),\n",
    "    ]\n",
    "    up_stack = [\n",
    "        upsample(512, 4, apply_dropout=True),\n",
    "        upsample(512, 4, apply_dropout=True),\n",
    "        upsample(512, 4, apply_dropout=True),\n",
    "        upsample(512, 4),\n",
    "        upsample(256, 4),\n",
    "        upsample(128, 4),\n",
    "        upsample(64, 4),\n",
    "    ]\n",
    "    initializer = tf.random_normal_initializer(0., 0.02)\n",
    "    last = tf.keras.layers.Conv2DTranspose(3, 4, strides=2, padding='same',\n",
    "                                            kernel_initializer=initializer, activation='tanh')\n",
    "    x = inputs\n",
    "    skips = []\n",
    "    for down in down_stack:\n",
    "        x = down(x)\n",
    "        skips.append(x)\n",
    "    skips = reversed(skips[:-1])\n",
    "    for up, skip in zip(up_stack, skips):\n",
    "        x = up(x)\n",
    "        x = tf.keras.layers.Concatenate()([x, skip])\n",
    "    x = last(x)\n",
    "    return tf.keras.Model(inputs=inputs, outputs=x)\n",
    "\n",
    "generator = Generator()\n",
    "generator.compile(optimizer='adam', loss='mean_squared_error')"
   ]
  },
  {
   "cell_type": "markdown",
   "metadata": {},
   "source": [
    "## Train and Evaluate the Generator"
   ]
  },
  {
   "cell_type": "code",
   "execution_count": null,
   "metadata": {},
   "outputs": [],
   "source": [
    "generator.fit(train_bw_images, train_color_images, epochs=50, batch_size=1)\n",
    "generator.evaluate(test_bw_images, test_color_images)"
   ]
  },
  {
   "cell_type": "markdown",
   "metadata": {},
   "source": [
    "## Generate and Save Colorized Images"
   ]
  },
  {
   "cell_type": "code",
   "execution_count": null,
   "metadata": {},
   "outputs": [],
   "source": [
    "def generate_and_save_images(model, test_input, save_dir):\n",
    "    predictions = model.predict(test_input)\n",
    "    predictions = (predictions + 1) / 2.0\n",
    "    if not os.path.exists(save_dir):\n",
    "        os.makedirs(save_dir)\n",
    "    for i in range(len(predictions)):\n",
    "        img = predictions[i]\n",
    "        img = tf.image.convert_image_dtype(img, tf.uint8)\n",
    "        img = Image.fromarray(img.numpy())\n",
    "        img.save(os.path.join(save_dir, f'colorized_image_{i}.png'))\n",
    "\n",
    "output_dir = 'output/test_colorized'\n",
    "generate_and_save_images(generator, test_bw_images, output_dir)"
   ]
  },
  {
   "cell_type": "markdown",
   "metadata": {},
   "source": [
    "## Display Image Comparison"
   ]
  },
  {
   "cell_type": "code",
   "execution_count": null,
   "metadata": {},
   "outputs": [],
   "source": [
    "def display_image_comparison(model, test_bw_images, test_color_images, num_images=3):\n",
    "    predictions = model.predict(test_bw_images)\n",
    "    predictions = (predictions + 1) / 2.0\n",
    "    test_color_images = (test_color_images + 1) / 2.0\n",
    "    plt.figure(figsize=(15, 5 * num_images))\n",
    "    for i in range(num_images):\n",
    "        plt.subplot(num_images, 3, 3*i + 1)\n",
    "        plt.imshow(test_bw_images[i].reshape(256, 256), cmap='gray')\n",
    "        plt.title('Black and White')\n",
    "        plt.axis('off')\n",
    "        plt.subplot(num_images, 3, 3*i + 2)\n",
    "        plt.imshow(test_color_images[i])\n",
    "        plt.title('Actual Color')\n",
    "        plt.axis('off')\n",
    "        plt.subplot(num_images, 3, 3*i + 3)\n",
    "        plt.imshow(predictions[i])\n",
    "        plt.title('Generated Color')\n",
    "        plt.axis('off')\n",
    "    plt.show()"
   ]
  },
  {
   "cell_type": "markdown",
   "metadata": {},
   "source": [
    "## Calculate Model Accuracy"
   ]
  },
  {
   "cell_type": "code",
   "execution_count": null,
   "metadata": {},
   "outputs": [],
   "source": [
    "def calculate_accuracy(model, test_bw_images, test_color_images):\n",
    "    predictions = model.predict(test_bw_images)\n",
    "    predictions = (predictions + 1) / 2.0\n",
    "    test_color_images = (test_color_images + 1) / 2.0\n",
    "    mse = tf.reduce_mean(tf.keras.losses.mean_squared_error(test_color_images, predictions))\n",
    "    accuracy = 1 - mse.numpy()\n",
    "    return accuracy"
   ]
  },
  {
   "cell_type": "markdown",
   "metadata": {},
   "source": [
    "## Display Confusion Matrix"
   ]
  },
  {
   "cell_type": "code",
   "execution_count": null,
   "metadata": {},
   "outputs": [],
   "source": [
    "def display_confusion_matrix(model, test_bw_images, test_color_images):\n",
    "    predictions = model.predict(test_bw_images)\n",
    "    predictions = (predictions + 1) / 2.0\n",
    "    test_color_images = (test_color_images + 1) / 2.0\n",
    "    y_true = test_color_images.flatten()\n",
    "    y_pred = predictions.flatten()\n",
    "    cm = confusion_matrix(y_true > 0.5, y_pred > 0.5)\n",
    "    plt.figure(figsize=(10, 8))\n",
    "    sns.heatmap(cm, annot=True, fmt='d', cmap='Blues', xticklabels=['Black', 'White'], yticklabels=['Black', 'White'])\n",
    "    plt.xlabel('Predicted')\n",
    "    plt.ylabel('Actual')\n",
    "    plt.title('Confusion Matrix')\n",
    "    plt.show()"
   ]
  },
  {
   "cell_type": "markdown",
   "metadata": {},
   "source": [
    "## Evaluate and Visualize Results"
   ]
  },
  {
   "cell_type": "code",
   "execution_count": null,
   "metadata": {},
   "outputs": [],
   "source": [
    "accuracy = calculate_accuracy(generator, test_bw_images, test_color_images)\n",
    "print(f'Model Accuracy: {accuracy:.4f}')\n",
    "display_image_comparison(generator, test_bw_images, test_color_images, num_images=3)\n",
    "display_confusion_matrix(generator, test_bw_images, test_color_images)"
   ]
  }
 ],
 "metadata": {
  "kernelspec": {
   "display_name": "Python 3",
   "language": "python",
   "name": "python3"
  },
  "language_info": {
   "name": "python"
  }
 },
 "nbformat": 4,
 "nbformat_minor": 2
}
