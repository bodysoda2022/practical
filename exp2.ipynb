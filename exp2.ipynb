{
 "cells": [
  {
   "cell_type": "code",
   "metadata": {},
   "source": [
    "import pandas as pd\n",
    "import re\n",
    "import matplotlib.pyplot as plt\n",
    "from wordcloud import WordCloud\n",
    "from collections import Counter\n",
    "from sklearn.feature_extraction.text import TfidfVectorizer, CountVectorizer\n",
    "from sklearn.decomposition import TruncatedSVD\n",
    "from sklearn.model_selection import train_test_split\n",
    "from sklearn.neighbors import KNeighborsClassifier\n",
    "from sklearn.metrics import accuracy_score, classification_report\n"
   ],
   "execution_count": null,
   "outputs": []
  },
  {
   "cell_type": "code",
   "metadata": {},
   "source": [
    "# Load dataset\n",
    "file_path = \"/content/Corona_NLP_train.csv\"\n",
    "df = pd.read_csv(file_path)\n"
   ],
   "execution_count": null,
   "outputs": []
  },
  {
   "cell_type": "code",
   "metadata": {},
   "source": [
    "# Text preprocessing\n",
    "def preprocess_text(text):\n",
    "    text = text.lower()\n",
    "    text = re.sub(r'http\\S+', '', text) # Remove URLs\n",
    "    text = re.sub(r'@\\w+', '', text) # Remove mentions\n",
    "    text = re.sub(r'#\\w+', '', text) # Remove hashtags\n",
    "    text = re.sub(r'[^a-z\\s]', '', text) # Remove punctuation and numbers\n",
    "    text = \" \".join([word for word in text.split() if len(word) > 2]) # Remove short words\n",
    "    return text\n",
    "\n",
    "df[\"CleanedTweet\"] = df[\"OriginalTweet\"].astype(str).apply(preprocess_text)\n"
   ],
   "execution_count": null,
   "outputs": []
  },
  {
   "cell_type": "code",
   "metadata": {},
   "source": [
    "# Word Cloud Visualization\n",
    "all_text = \" \".join(df[\"CleanedTweet\"])\n",
    "wordcloud = WordCloud(width=800, height=400, background_color='white').generate(all_text)\n",
    "plt.figure(figsize=(10, 5))\n",
    "plt.imshow(wordcloud, interpolation='bilinear')\n",
    "plt.axis(\"off\")\n",
    "plt.title(\"Word Cloud of Tweets\")\n",
    "plt.show()\n"
   ],
   "execution_count": null,
   "outputs": []
  },
  {
   "cell_type": "code",
   "metadata": {},
   "source": [
    "# Bag of Words (BoW) Visualization\n",
    "vectorizer = CountVectorizer(max_features=20)\n",
    "X_bow = vectorizer.fit_transform(df[\"CleanedTweet\"])\n",
    "word_counts = X_bow.toarray().sum(axis=0)\n",
    "words = vectorizer.get_feature_names_out()\n",
    "word_freq = dict(zip(words, word_counts))\n",
    "plt.figure(figsize=(10, 5))\n",
    "plt.bar(words, word_counts, color='skyblue')\n",
    "plt.xticks(rotation=45)\n",
    "plt.xlabel(\"Words\")\n",
    "plt.ylabel(\"Frequency\")\n",
    "plt.title(\"Top 20 Words in Bag of Words Representation\")\n",
    "plt.show()\n"
   ],
   "execution_count": null,
   "outputs": []
  },
  {
   "cell_type": "code",
   "metadata": {},
   "source": [
    "# Convert labels to numerical values\n",
    "sentiment_mapping = {\n",
    "    \"Positive\": 1,\n",
    "    \"Negative\": -1,\n",
    "    \"Neutral\": 0,\n",
    "    \"Extremely Positive\": 2,\n",
    "    \"Extremely Negative\": -2\n",
    "}\n",
    "y = df[\"Sentiment\"].map(sentiment_mapping)\n"
   ],
   "execution_count": null,
   "outputs": []
  },
  {
   "cell_type": "code",
   "metadata": {},
   "source": [
    "# TF-IDF vectorization\n",
    "tfidf_vectorizer = TfidfVectorizer(max_features=2000)\n",
    "X_tfidf = tfidf_vectorizer.fit_transform(df[\"CleanedTweet\"])\n"
   ],
   "execution_count": null,
   "outputs": []
  },
  {
   "cell_type": "code",
   "metadata": {},
   "source": [
    "# Dimensionality reduction using Truncated SVD\n",
    "svd = TruncatedSVD(n_components=300, random_state=42)\n",
    "X_reduced = svd.fit_transform(X_tfidf)\n"
   ],
   "execution_count": null,
   "outputs": []
  },
  {
   "cell_type": "code",
   "metadata": {},
   "source": [
    "# Train-test split\n",
    "X_train, X_test, y_train, y_test = train_test_split(X_reduced, y, test_size=0.2, random_state=42, stratify=y)\n"
   ],
   "execution_count": null,
   "outputs": []
  },
  {
   "cell_type": "code",
   "metadata": {},
   "source": [
    "# Train KNN classifier\n",
    "knn = KNeighborsClassifier(n_neighbors=5, metric='cosine')\n",
    "knn.fit(X_train, y_train)\n",
    "# Predictions\n",
    "y_pred = knn.predict(X_test)\n"
   ],
   "execution_count": null,
   "outputs": []
  },
  {
   "cell_type": "code",
   "metadata": {},
   "source": [
    "# Evaluation\n",
    "accuracy = accuracy_score(y_test, y_pred)\n",
    "report = classification_report(y_test, y_pred)\n",
    "print(f'Accuracy: {accuracy:.4f}')\n",
    "print('Classification Report:\\n', report)\n"
   ],
   "execution_count": null,
   "outputs": []
  },
  {
   "cell_type": "code",
   "metadata": {},
   "source": [
    "from sklearn.metrics import confusion_matrix\n",
    "import seaborn as sns\n",
    "cm = confusion_matrix(y_test, y_pred)\n",
    "plt.figure(figsize=(8, 6))\n",
    "sns.heatmap(cm, annot=True, fmt='d', cmap='Blues',\n",
    "            xticklabels=sentiment_mapping.keys(),\n",
    "            yticklabels=sentiment_mapping.keys())\n",
    "plt.xlabel('Predicted')\n",
    "plt.ylabel('Actual')\n",
    "plt.title('Confusion Matrix')\n",
    "plt.show()\n"
   ],
   "execution_count": null,
   "outputs": []
  }
 ],
 "metadata": {
  "kernelspec": {
   "display_name": "Python 3",
   "language": "python",
   "name": "python3"
  },
  "language_info": {
   "name": "python",
   "version": "3.8"
  }
 },
 "nbformat": 4,
 "nbformat_minor": 2
}