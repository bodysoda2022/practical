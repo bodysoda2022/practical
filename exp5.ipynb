{
 "cells": [
  {
   "cell_type": "code",
   "execution_count": null,
   "metadata": {},
   "outputs": [],
   "source": [
    "import numpy as np\n",
    "import pandas as pd\n",
    "import seaborn as sns\n",
    "import matplotlib.pyplot as plt\n",
    "from sklearn.feature_extraction.text import TfidfVectorizer\n",
    "from sklearn.metrics.pairwise import cosine_similarity\n",
    "from sklearn.datasets import fetch_20newsgroups"
   ]
  },
  {
   "cell_type": "code",
   "execution_count": null,
   "metadata": {},
   "outputs": [],
   "source": [
    "# Load dataset\n",
    "categories = ['sci.space', 'comp.graphics', 'rec.sport.baseball']\n",
    "newsgroups = fetch_20newsgroups(subset='train', categories=categories,\n",
    "                              remove=('headers', 'footers', 'quotes'))\n",
    "docs = newsgroups.data[:10]  # Select first 10 documents"
   ]
  },
  {
   "cell_type": "code",
   "execution_count": null,
   "metadata": {},
   "outputs": [],
   "source": [
    "# Convert text into numerical form using TF-IDF vectorization\n",
    "vectorizer = TfidfVectorizer(stop_words='english', max_features=1000)\n",
    "tfidf_matrix = vectorizer.fit_transform(docs)"
   ]
  },
  {
   "cell_type": "code",
   "execution_count": null,
   "metadata": {},
   "outputs": [],
   "source": [
    "# Compute Cosine Similarity\n",
    "cos_sim = cosine_similarity(tfidf_matrix, tfidf_matrix)\n",
    "\n",
    "# Convert similarity matrix into DataFrame\n",
    "doc_names = [f\"Doc {i+1}\" for i in range(len(docs))]\n",
    "similarity_df = pd.DataFrame(cos_sim, index=doc_names, columns=doc_names)"
   ]
  },
  {
   "cell_type": "code",
   "execution_count": null,
   "metadata": {},
   "outputs": [],
   "source": [
    "# Visualize similarity matrix using a heatmap\n",
    "plt.figure(figsize=(8,6))\n",
    "sns.heatmap(similarity_df, annot=True, cmap='coolwarm', fmt='.2f')\n",
    "plt.title(\"Document Similarity Heatmap\")\n",
    "plt.show()"
   ]
  },
  {
   "cell_type": "code",
   "execution_count": null,
   "metadata": {},
   "outputs": [],
   "source": [
    "# Bar Plot of Document Similarities\n",
    "plt.figure(figsize=(8,6))\n",
    "for i in range(len(docs)):\n",
    "    plt.bar(doc_names, cos_sim[i], alpha=0.6, label=f\"Doc {i+1}\")\n",
    "plt.legend()\n",
    "plt.show()"
   ]
  },
  {
   "cell_type": "code",
   "execution_count": null,
   "metadata": {},
   "outputs": [],
   "source": [
    "# Pairwise Similarity Distribution\n",
    "plt.figure(figsize=(8,6))\n",
    "sns.histplot(cos_sim.flatten(), bins=10, kde=True, color='purple')\n",
    "plt.xlabel(\"Similarity Score\")\n",
    "plt.ylabel(\"Frequency\")\n",
    "plt.title(\"Distribution of Document Similarities\")\n",
    "plt.show()"
   ]
  },
  {
   "cell_type": "code",
   "execution_count": null,
   "metadata": {},
   "outputs": [],
   "source": [
    "# Display similarity matrix\n",
    "print(\"Cosine Similarity Matrix:\")\n",
    "print(similarity_df)"
   ]
  }
 ],
 "metadata": {
  "kernelspec": {
   "display_name": "Python 3",
   "language": "python",
   "name": "python3"
  },
  "language_info": {
   "name": "python",
   "version": "3.8"
  }
 },
 "nbformat": 4,
 "nbformat_minor": 4
}
