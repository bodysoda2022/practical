{
 "cells": [
  {
   "cell_type": "markdown",
   "metadata": {},
   "source": [
    "# Semantic Segmentation with U-Net and ResNet34 Backbone"
   ]
  },
  {
   "cell_type": "code",
   "execution_count": null,
   "metadata": {},
   "outputs": [],
   "source": [
    "import os\n",
    "import cv2\n",
    "import numpy as np\n",
    "import pandas as pd\n",
    "import matplotlib.pyplot as plt\n",
    "import random\n",
    "from PIL import Image\n",
    "import tensorflow as tf\n",
    "from tensorflow.keras.utils import to_categorical\n",
    "from sklearn.model_selection import train_test_split\n",
    "import segmentation_models as sm\n",
    "from tqdm import tqdm\n",
    "\n",
    "sm.set_framework('tf.keras')"
   ]
  },
  {
   "cell_type": "markdown",
   "metadata": {},
   "source": [
    "## Data Loader Function"
   ]
  },
  {
   "cell_type": "code",
   "execution_count": null,
   "metadata": {},
   "outputs": [],
   "source": [
    "def data_loader(folder_dir):\n",
    "    image_dataset = []\n",
    "    for image_name in os.listdir(folder_dir):\n",
    "        image = cv2.imread(os.path.join(folder_dir, image_name), 1)\n",
    "        image = cv2.cvtColor(image, cv2.COLOR_BGR2RGB)\n",
    "        image = cv2.resize(image, (128, 128))\n",
    "        image = np.array(image)\n",
    "        image_dataset.append(image)\n",
    "    return np.array(image_dataset)"
   ]
  },
  {
   "cell_type": "markdown",
   "metadata": {},
   "source": [
    "## Load Image and Mask Datasets\n",
    "You will be prompted for paths to your image dataset, mask dataset, and mask labels CSV."
   ]
  },
  {
   "cell_type": "code",
   "execution_count": null,
   "metadata": {},
   "outputs": [],
   "source": [
    "image_dataset_path = input(\"Enter the path to the image dataset: \")\n",
    "mask_dataset_path = input(\"Enter the path to the mask dataset: \")\n",
    "mask_labels_path = input(\"Enter the path to the mask labels CSV file: \")\n",
    "\n",
    "image_dataset = data_loader(image_dataset_path)\n",
    "mask_dataset = data_loader(mask_dataset_path)"
   ]
  },
  {
   "cell_type": "markdown",
   "metadata": {},
   "source": [
    "## Visualize a Random Image and Its Mask"
   ]
  },
  {
   "cell_type": "code",
   "execution_count": null,
   "metadata": {},
   "outputs": [],
   "source": [
    "image_number = random.randint(0, len(image_dataset)-1)\n",
    "plt.figure(figsize=(12, 6))\n",
    "plt.subplot(121)\n",
    "plt.imshow(image_dataset[image_number])\n",
    "plt.subplot(122)\n",
    "plt.imshow(mask_dataset[image_number])\n",
    "plt.show()"
   ]
  },
  {
   "cell_type": "markdown",
   "metadata": {},
   "source": [
    "## Load Mask Labels"
   ]
  },
  {
   "cell_type": "code",
   "execution_count": null,
   "metadata": {},
   "outputs": [],
   "source": [
    "mask_labels = pd.read_csv(mask_labels_path)\n",
    "print(mask_labels)"
   ]
  },
  {
   "cell_type": "markdown",
   "metadata": {},
   "source": [
    "## Convert RGB Masks to Label Masks"
   ]
  },
  {
   "cell_type": "code",
   "execution_count": null,
   "metadata": {},
   "outputs": [],
   "source": [
    "def rgb_to_labels(img, mask_labels):\n",
    "    label_seg = np.zeros(img.shape[:2], dtype=np.uint8)\n",
    "    for i in range(mask_labels.shape[0]):\n",
    "        label_seg[np.all(img == list(mask_labels.iloc[i, 1:4]), axis=-1)] = i\n",
    "    return label_seg\n",
    "\n",
    "labels = [rgb_to_labels(mask, mask_labels) for mask in mask_dataset]\n",
    "labels = np.array(labels)\n",
    "labels = np.expand_dims(labels, axis=3)\n",
    "print(\"Unique labels in label dataset are: \", np.unique(labels))"
   ]
  },
  {
   "cell_type": "markdown",
   "metadata": {},
   "source": [
    "## Visualize a Random Label Mask"
   ]
  },
  {
   "cell_type": "code",
   "execution_count": null,
   "metadata": {},
   "outputs": [],
   "source": [
    "image_number = random.randint(0, len(image_dataset)-1)\n",
    "plt.figure(figsize=(12, 6))\n",
    "plt.subplot(121)\n",
    "plt.imshow(image_dataset[image_number])\n",
    "plt.subplot(122)\n",
    "plt.imshow(labels[image_number][:, :, 0])\n",
    "plt.show()"
   ]
  },
  {
   "cell_type": "markdown",
   "metadata": {},
   "source": [
    "## Prepare Data for Training"
   ]
  },
  {
   "cell_type": "code",
   "execution_count": null,
   "metadata": {},
   "outputs": [],
   "source": [
    "n_classes = len(np.unique(labels))\n",
    "labels_cat = to_categorical(labels, num_classes=n_classes)\n",
    "\n",
    "X_train, X_test, y_train, y_test = train_test_split(image_dataset, labels_cat, test_size=0.20, random_state=42)"
   ]
  },
  {
   "cell_type": "markdown",
   "metadata": {},
   "source": [
    "## Preprocessing and Model Setup"
   ]
  },
  {
   "cell_type": "code",
   "execution_count": null,
   "metadata": {},
   "outputs": [],
   "source": [
    "BACKBONE = 'resnet34'\n",
    "preprocess_input = sm.get_preprocessing(BACKBONE)\n",
    "\n",
    "X_train_prepr = preprocess_input(X_train)\n",
    "X_test_prepr = preprocess_input(X_test)\n",
    "\n",
    "model = sm.Unet(BACKBONE, encoder_weights='imagenet', classes=n_classes, activation='softmax')\n",
    "model.compile(optimizer='adam', loss='categorical_crossentropy', metrics=['accuracy'])\n",
    "model.summary()"
   ]
  },
  {
   "cell_type": "markdown",
   "metadata": {},
   "source": [
    "## Model Training"
   ]
  },
  {
   "cell_type": "code",
   "execution_count": null,
   "metadata": {},
   "outputs": [],
   "source": [
    "history = model.fit(\n",
    "    X_train_prepr, y_train,\n",
    "    batch_size=16,\n",
    "    epochs=20,\n",
    "    verbose=1,\n",
    "    validation_data=(X_test_prepr, y_test)\n",
    ")"
   ]
  },
  {
   "cell_type": "markdown",
   "metadata": {},
   "source": [
    "## Plot Training and Validation Accuracy"
   ]
  },
  {
   "cell_type": "code",
   "execution_count": null,
   "metadata": {},
   "outputs": [],
   "source": [
    "accuracy = history.history['accuracy']\n",
    "val_accuracy = history.history['val_accuracy']\n",
    "epochs = range(1, len(accuracy) + 1)\n",
    "\n",
    "plt.plot(epochs, accuracy, 'y', label='Training Accuracy')\n",
    "plt.plot(epochs, val_accuracy, 'r', label='Validation Accuracy')\n",
    "plt.title('Training and validation Accuracy')\n",
    "plt.xlabel('Epochs')\n",
    "plt.ylabel('Accuracy')\n",
    "plt.legend()\n",
    "plt.show()"
   ]
  },
  {
   "cell_type": "markdown",
   "metadata": {},
   "source": [
    "## Save and Reload the Model"
   ]
  },
  {
   "cell_type": "code",
   "execution_count": null,
   "metadata": {},
   "outputs": [],
   "source": [
    "model.save('resnet_backbone.hdf5')\n",
    "model = tf.keras.models.load_model('resnet_backbone.hdf5', compile=False)"
   ]
  },
  {
   "cell_type": "markdown",
   "metadata": {},
   "source": [
    "## Predict on Test Data and Visualize Results"
   ]
  },
  {
   "cell_type": "code",
   "execution_count": null,
   "metadata": {},
   "outputs": [],
   "source": [
    "y_pred = model.predict(X_test_prepr)\n",
    "y_pred_argmax = np.argmax(y_pred, axis=3)\n",
    "y_test_argmax = np.argmax(y_test, axis=3)\n",
    "\n",
    "test_img_number = random.randint(0, len(X_test) - 1)\n",
    "test_img = X_test[test_img_number]\n",
    "ground_truth = y_test_argmax[test_img_number]\n",
    "test_img_input = np.expand_dims(test_img, 0)\n",
    "prediction = model.predict(test_img_input)\n",
    "predicted_img = np.argmax(prediction, axis=3)[0, :, :]\n",
    "\n",
    "plt.figure(figsize=(16, 12))\n",
    "plt.subplot(231)\n",
    "plt.title('Testing Image')\n",
    "plt.imshow(test_img)\n",
    "plt.subplot(232)\n",
    "plt.title('Testing Label')\n",
    "plt.imshow(ground_truth)\n",
    "plt.subplot(233)\n",
    "plt.title('Prediction on test image')\n",
    "plt.imshow(predicted_img)\n",
    "plt.show()"
   ]
  }
 ],
 "metadata": {
  "kernelspec": {
   "display_name": "Python 3",
   "language": "python",
   "name": "python3"
  },
  "language_info": {
   "name": "python"
  }
 },
 "nbformat": 4,
 "nbformat_minor": 2
}
