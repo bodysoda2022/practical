{
 "cells": [
  {
   "cell_type": "code",
   "execution_count": null,
   "metadata": {},
   "outputs": [],
   "source": [
    "import numpy as np\n",
    "import tensorflow as tf\n",
    "from tensorflow.keras.preprocessing.sequence import pad_sequences\n",
    "from tensorflow.keras.models import Sequential\n",
    "from tensorflow.keras.layers import Embedding, LSTM, TimeDistributed, Dense\n",
    "from sklearn.model_selection import train_test_split\n",
    "from keras.utils import to_categorical"
   ]
  },
  {
   "cell_type": "code",
   "execution_count": null,
   "metadata": {},
   "outputs": [],
   "source": [
    "# Sample dataset in BIO format\n",
    "sentences = [\n",
    "    [\"Barack\", \"Obama\", \"was\", \"born\", \"in\", \"Hawaii\", \".\"],\n",
    "    [\"Apple\", \"is\", \"based\", \"in\", \"Cupertino\", \".\"],\n",
    "    [\"Elon\", \"Musk\", \"founded\", \"SpaceX\", \"in\", \"2002\", \".\"]\n",
    "]\n",
    "\n",
    "tags = [\n",
    "    [\"B-PER\", \"I-PER\", \"O\", \"O\", \"O\", \"B-LOC\", \"O\"],\n",
    "    [\"B-ORG\", \"O\", \"O\", \"O\", \"B-LOC\", \"O\"],\n",
    "    [\"B-PER\", \"I-PER\", \"O\", \"B-ORG\", \"O\", \"B-DATE\", \"O\"]\n",
    "]"
   ]
  },
  {
   "cell_type": "code",
   "execution_count": null,
   "metadata": {},
   "outputs": [],
   "source": [
    "# Build vocab\n",
    "words = list(set(w for s in sentences for w in s))\n",
    "tags_list = list(set(t for ts in tags for t in ts))\n",
    "\n",
    "word2idx = {w: i+2 for i, w in enumerate(words)}\n",
    "word2idx[\"PAD\"] = 0\n",
    "word2idx[\"UNK\"] = 1\n",
    "\n",
    "tag2idx = {t: i for i, t in enumerate(tags_list)}"
   ]
  },
  {
   "cell_type": "code",
   "execution_count": null,
   "metadata": {},
   "outputs": [],
   "source": [
    "# Convert to sequences\n",
    "X = [[word2idx.get(w, 1) for w in s] for s in sentences]\n",
    "y = [[tag2idx[t] for t in ts] for ts in tags]\n",
    "\n",
    "# Pad sequences\n",
    "max_len = max(len(x) for x in X)\n",
    "X = pad_sequences(X, maxlen=max_len, padding='post')\n",
    "y = pad_sequences(y, maxlen=max_len, padding='post')\n",
    "\n",
    "# Convert labels to categorical\n",
    "y = [to_categorical(i, num_classes=len(tag2idx)) for i in y]"
   ]
  },
  {
   "cell_type": "code",
   "execution_count": null,
   "metadata": {},
   "outputs": [],
   "source": [
    "# Train-test split\n",
    "X_train, X_test, y_train, y_test = train_test_split(X, np.array(y), test_size=0.2)"
   ]
  },
  {
   "cell_type": "code",
   "execution_count": null,
   "metadata": {},
   "outputs": [],
   "source": [
    "# Build LSTM model\n",
    "model = Sequential([\n",
    "    Embedding(input_dim=len(word2idx), output_dim=64, input_length=max_len),\n",
    "    LSTM(64, return_sequences=True),\n",
    "    TimeDistributed(Dense(len(tag2idx), activation=\"softmax\"))\n",
    "])\n",
    "model.compile(optimizer=\"adam\", loss=\"categorical_crossentropy\", metrics=[\"accuracy\"])\n",
    "model.summary()"
   ]
  },
  {
   "cell_type": "code",
   "execution_count": null,
   "metadata": {},
   "outputs": [],
   "source": [
    "# Train the model\n",
    "print(\"\\nTraining the NER model, please wait...\\n\")\n",
    "model.fit(X_train, y_train, batch_size=2, epochs=15, validation_split=0.1)"
   ]
  },
  {
   "cell_type": "code",
   "execution_count": null,
   "metadata": {},
   "outputs": [],
   "source": [
    "# Test the model\n",
    "i = 0\n",
    "p = model.predict(np.array([X_test[i]]))\n",
    "p = np.argmax(p, axis=-1)\n",
    "y_true = np.argmax(y_test[i], axis=-1)\n",
    "\n",
    "# Decode predictions\n",
    "idx2word = {i: w for w, i in word2idx.items()}\n",
    "idx2tag = {i: t for t, i in tag2idx.items()}\n",
    "\n",
    "print(\"\\n--- Sample Prediction ---\")\n",
    "print(\"{:15} | {:10} | {}\".format(\"Word\", \"True\", \"Predicted\"))\n",
    "print(\"-\" * 40)\n",
    "for w, t, pred in zip(X_test[i], y_true, p[0]):\n",
    "    if w != 0:\n",
    "        print(\"{:15} | {:10} | {}\".format(idx2word[w], idx2tag[t], idx2tag[pred]))"
   ]
  }
 ],
 "metadata": {
  "kernelspec": {
   "display_name": "Python 3",
   "language": "python",
   "name": "python3"
  },
  "language_info": {
   "name": "python",
   "version": "3.8"
  }
 },
 "nbformat": 4,
 "nbformat_minor": 4
}
