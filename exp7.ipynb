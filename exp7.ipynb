{
 "cells": [
  {
   "cell_type": "code",
   "execution_count": null,
   "metadata": {},
   "outputs": [],
   "source": [
    "from transformers import BertForQuestionAnswering, BertTokenizer\n",
    "import torch\n",
    "import textwrap"
   ]
  },
  {
   "cell_type": "code",
   "execution_count": null,
   "metadata": {},
   "outputs": [],
   "source": [
    "# Load pre-trained model\n",
    "model_name = \"deepset/bert-base-cased-squad2\"\n",
    "tokenizer = BertTokenizer.from_pretrained(model_name)\n",
    "model = BertForQuestionAnswering.from_pretrained(model_name)"
   ]
  },
  {
   "cell_type": "code",
   "execution_count": null,
   "metadata": {},
   "outputs": [],
   "source": [
    "def get_answer(question, context):\n",
    "    inputs = tokenizer(question, context, return_tensors=\"pt\", truncation=True, max_length=512)\n",
    "    \n",
    "    with torch.no_grad():\n",
    "        outputs = model(**inputs)\n",
    "    \n",
    "    start_idx = torch.argmax(outputs.start_logits)\n",
    "    end_idx = torch.argmax(outputs.end_logits) + 1\n",
    "    \n",
    "    # Calculate confidence scores\n",
    "    start_prob = torch.nn.functional.softmax(outputs.start_logits, dim=1)[0][start_idx].item()\n",
    "    end_prob = torch.nn.functional.softmax(outputs.end_logits, dim=1)[0][end_idx-1].item()\n",
    "    confidence = (start_prob + end_prob) / 2\n",
    "    \n",
    "    answer_tokens = tokenizer.convert_ids_to_tokens(inputs[\"input_ids\"][0][start_idx:end_idx])\n",
    "    return tokenizer.convert_tokens_to_string(answer_tokens).strip(), confidence"
   ]
  },
  {
   "cell_type": "code",
   "execution_count": null,
   "metadata": {},
   "outputs": [],
   "source": [
    "def pretty_print(text):\n",
    "    print(textwrap.fill(text, width=100))"
   ]
  },
  {
   "cell_type": "code",
   "execution_count": null,
   "metadata": {},
   "outputs": [],
   "source": [
    "# Predefined context\n",
    "context = (\n",
    "    \"Python is a high-level, interpreted programming language created by Guido van Rossum. \"\n",
    "    \"It supports multiple programming paradigms, including structured, object-oriented, and functional programming. \"\n",
    "    \"Python is widely used in web development, AI, scientific computing, data analysis, and more.\"\n",
    ")\n",
    "\n",
    "questions = [\n",
    "    \"Who created Python?\",\n",
    "    \"What is Python used for?\",\n",
    "    \"What kind of programming paradigms does Python support?\"\n",
    "]"
   ]
  },
  {
   "cell_type": "code",
   "execution_count": null,
   "metadata": {},
   "outputs": [],
   "source": [
    "print(\"=== Question Answering using BERT ===\\n\")\n",
    "pretty_print(\"Context:\\n\" + context + \"\\n\")\n",
    "\n",
    "for q in questions:\n",
    "    answer, score = get_answer(q, context)\n",
    "    print(f\"\\nQuestion: {q}\")\n",
    "    print(f\"Answer: {answer}\")\n",
    "    print(f\"Confidence: {score:.2f}\")"
   ]
  },
  {
   "cell_type": "code",
   "execution_count": null,
   "metadata": {},
   "outputs": [],
   "source": [
    "# Optional user input\n",
    "print(\"\\n=== Try your own question! ===\")\n",
    "user_question = input(\"Enter your question: \")\n",
    "answer, score = get_answer(user_question, context)\n",
    "print(f\"\\nAnswer: {answer}\")\n",
    "print(f\"Confidence: {score:.2f}\")"
   ]
  }
 ],
 "metadata": {
  "kernelspec": {
   "display_name": "Python 3",
   "language": "python",
   "name": "python3"
  },
  "language_info": {
   "name": "python",
   "version": "3.8"
  }
 },
 "nbformat": 4,
 "nbformat_minor": 4
}
